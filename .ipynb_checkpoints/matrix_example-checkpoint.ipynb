{
 "cells": [
  {
   "cell_type": "markdown",
   "metadata": {},
   "source": [
    "numpy行列計算"
   ]
  },
  {
   "cell_type": "markdown",
   "metadata": {},
   "source": [
    "ndarray: 配列で次元は自由\n",
    "matrix：行列で2次元に固定"
   ]
  },
  {
   "cell_type": "code",
   "execution_count": 1,
   "metadata": {},
   "outputs": [],
   "source": [
    "import numpy as np"
   ]
  },
  {
   "cell_type": "markdown",
   "metadata": {},
   "source": [
    "行列の初期化"
   ]
  },
  {
   "cell_type": "code",
   "execution_count": 2,
   "metadata": {},
   "outputs": [
    {
     "name": "stdout",
     "output_type": "stream",
     "text": [
      "a-matrix:\n",
      "[[1. 2.]\n",
      " [3. 4.]]\n",
      "b-matrix:\n",
      "[[5. 6.]\n",
      " [7. 8.]]\n",
      "c-matrix:\n",
      "[0. 0. 0.]\n",
      "d-matrix:\n",
      "[[0. 0. 0.]\n",
      " [0. 0. 0.]\n",
      " [0. 0. 0.]]\n",
      "e-matrix:\n",
      "[[1. 1. 1.]\n",
      " [1. 1. 1.]\n",
      " [1. 1. 1.]]\n",
      "f-matrix:\n",
      "[[1. 0. 0.]\n",
      " [0. 1. 0.]\n",
      " [0. 0. 1.]]\n"
     ]
    }
   ],
   "source": [
    "a = np.array([[1.0,2.0],[3.0,4.0]])\n",
    "b = np.array([[5.0,6.0],[7.0,8.0]])\n",
    "c = np.zeros(3)\n",
    "d = np.zeros((3,3))\n",
    "e = np.ones((3,3))\n",
    "f = np.eye(3)\n",
    "print('a-matrix:\\n{}'.format(a))\n",
    "print('b-matrix:\\n{}'.format(b))\n",
    "print('c-matrix:\\n{}'.format(c))\n",
    "print('d-matrix:\\n{}'.format(d))\n",
    "print('e-matrix:\\n{}'.format(e))\n",
    "print('f-matrix:\\n{}'.format(f))"
   ]
  },
  {
   "cell_type": "markdown",
   "metadata": {},
   "source": [
    "matrix型の初期化"
   ]
  },
  {
   "cell_type": "code",
   "execution_count": 3,
   "metadata": {},
   "outputs": [
    {
     "name": "stdout",
     "output_type": "stream",
     "text": [
      "[[1. 2.]\n",
      " [3. 4.]]\n"
     ]
    }
   ],
   "source": [
    "ma = np.mat([[1.0,2.0],[3.0,4.0]])\n",
    "mb = np.mat([[5.0,6.0],[7.0,8.0]])\n",
    "print(ma)"
   ]
  },
  {
   "cell_type": "markdown",
   "metadata": {},
   "source": [
    "行列積"
   ]
  },
  {
   "cell_type": "code",
   "execution_count": 4,
   "metadata": {},
   "outputs": [
    {
     "name": "stdout",
     "output_type": "stream",
     "text": [
      "[[ 5. 12.]\n",
      " [21. 32.]]\n",
      "[[19. 22.]\n",
      " [43. 50.]]\n",
      "[[19. 22.]\n",
      " [43. 50.]]\n"
     ]
    }
   ],
   "source": [
    "print(a*b)\n",
    "print(a.dot(b))\n",
    "print(ma*mb)"
   ]
  },
  {
   "cell_type": "code",
   "execution_count": 5,
   "metadata": {},
   "outputs": [
    {
     "name": "stdout",
     "output_type": "stream",
     "text": [
      "[[0.2        0.33333333]\n",
      " [0.42857143 0.5       ]]\n",
      "[[0.2        0.33333333]\n",
      " [0.42857143 0.5       ]]\n"
     ]
    }
   ],
   "source": [
    "print(a/b)\n",
    "print(ma/mb)"
   ]
  },
  {
   "cell_type": "markdown",
   "metadata": {},
   "source": [
    "転置行列"
   ]
  },
  {
   "cell_type": "code",
   "execution_count": 6,
   "metadata": {},
   "outputs": [
    {
     "name": "stdout",
     "output_type": "stream",
     "text": [
      "[[1. 3.]\n",
      " [2. 4.]]\n",
      "[[1. 3.]\n",
      " [2. 4.]]\n"
     ]
    }
   ],
   "source": [
    "print(a.transpose())\n",
    "print(ma.transpose())"
   ]
  },
  {
   "cell_type": "markdown",
   "metadata": {},
   "source": [
    "導入"
   ]
  },
  {
   "cell_type": "code",
   "execution_count": 7,
   "metadata": {},
   "outputs": [],
   "source": [
    "from numpy.linalg import *\n",
    "from numpy import random"
   ]
  },
  {
   "cell_type": "code",
   "execution_count": 8,
   "metadata": {},
   "outputs": [
    {
     "name": "stdout",
     "output_type": "stream",
     "text": [
      "h-matrix:\n",
      "[[6 8 7]\n",
      " [3 9 4]\n",
      " [4 8 4]]\n",
      "i-matrix:\n",
      "[[0.84752448 0.54061488 0.88606975]\n",
      " [0.85434593 0.84733153 0.28040351]\n",
      " [0.99177111 0.06404876 0.07882204]]\n",
      "j-matrix:\n",
      "[[-0.80182512 -0.60913868  0.53676928]\n",
      " [ 0.02553745  1.11300869 -0.36543191]\n",
      " [ 0.36823955  0.39399738 -0.72732572]]\n",
      "k-matrix:\n",
      "[[-2.43597527 -2.31498202 -2.13830587]\n",
      " [-2.32393569 -1.88204973 -2.52399389]\n",
      " [-3.08432569 -3.34064394 -2.29453532]]\n",
      "l-matrix:\n",
      "[[8 7 8]\n",
      " [8 6 7]\n",
      " [7 8 6]]\n",
      "m-matrix:\n",
      "[[0.65521146 0.38496966 0.28790566]\n",
      " [0.14137708 0.09216428 0.38281891]\n",
      " [0.41207184 0.83192162 0.12033535]]\n",
      "n-matrix:\n",
      "[[5.64372949 3.31154971 4.69538178]\n",
      " [8.16151125 8.49262309 6.65633526]\n",
      " [3.31477488 6.30310708 4.51796586]]\n",
      "o-matrix:\n",
      "[[ 4.97436714  1.52583547  1.42990995]\n",
      " [ 0.90333695  1.20242129 10.00468878]\n",
      " [ 1.89659203  5.3267742   0.26359317]]\n"
     ]
    }
   ],
   "source": [
    "#任意の範囲の整数で一様分布\n",
    "h = random.randint(0,10,(3,3))\n",
    "#0.0以上1.0未満の一様分布\n",
    "i = random.random_sample((3,3))\n",
    "#平均0，標準偏差1の正規分布\n",
    "j = random.randn(3,3)\n",
    "#任意の平均，標準偏差の正規分布\n",
    "k = random.normal(-2, 0.5, (3,3))\n",
    "#二項分布(n=10, p=0.5)\n",
    "l = random.binomial(10, 0.5, (3,3))\n",
    "#ベータ分布(α=2, β = 2)\n",
    "m = random.beta(2,2,(3,3))\n",
    "#ガンマ分布(形状分布=5, 尺度母数=1)\n",
    "n = random.gamma(5,1,(3,3))\n",
    "#χ2乗分布(自由度=3)\n",
    "o = random.chisquare(3, (3,3))\n",
    "print('h-matrix:\\n{}'.format(h))\n",
    "print('i-matrix:\\n{}'.format(i))\n",
    "print('j-matrix:\\n{}'.format(j))\n",
    "print('k-matrix:\\n{}'.format(k))\n",
    "print('l-matrix:\\n{}'.format(l))\n",
    "print('m-matrix:\\n{}'.format(m))\n",
    "print('n-matrix:\\n{}'.format(n))\n",
    "print('o-matrix:\\n{}'.format(o))"
   ]
  },
  {
   "cell_type": "markdown",
   "metadata": {},
   "source": [
    "行列式"
   ]
  },
  {
   "cell_type": "code",
   "execution_count": 9,
   "metadata": {},
   "outputs": [
    {
     "name": "stdout",
     "output_type": "stream",
     "text": [
      "-27.999999999999986\n",
      "-0.5408101992751756\n",
      "0.3897065444479489\n",
      "0.15450805946282237\n"
     ]
    }
   ],
   "source": [
    "print(det(h))\n",
    "print(det(i))\n",
    "print(det(j))\n",
    "print(det(k))"
   ]
  },
  {
   "cell_type": "markdown",
   "metadata": {},
   "source": [
    "逆行列"
   ]
  },
  {
   "cell_type": "code",
   "execution_count": 10,
   "metadata": {},
   "outputs": [
    {
     "name": "stdout",
     "output_type": "stream",
     "text": [
      "元行列h：\n",
      "[[6 8 7]\n",
      " [3 9 4]\n",
      " [4 8 4]]\n",
      "hの逆行列：\n",
      "[[-0.14285714 -0.85714286  1.10714286]\n",
      " [-0.14285714  0.14285714  0.10714286]\n",
      " [ 0.42857143  0.57142857 -1.07142857]]\n"
     ]
    }
   ],
   "source": [
    "print('元行列h：\\n{}'.format(h))\n",
    "print('hの逆行列：\\n{}'.format(inv(h)))"
   ]
  },
  {
   "cell_type": "markdown",
   "metadata": {},
   "source": [
    "トレース"
   ]
  },
  {
   "cell_type": "code",
   "execution_count": 11,
   "metadata": {},
   "outputs": [
    {
     "name": "stdout",
     "output_type": "stream",
     "text": [
      "hのトレース：\n",
      "19\n"
     ]
    }
   ],
   "source": [
    "print('hのトレース：\\n{}'.format(np.trace(h)))"
   ]
  },
  {
   "cell_type": "markdown",
   "metadata": {},
   "source": [
    "内積"
   ]
  },
  {
   "cell_type": "code",
   "execution_count": 12,
   "metadata": {},
   "outputs": [
    {
     "name": "stdout",
     "output_type": "stream",
     "text": [
      "[3 0 3 7 9]\n",
      "[7 0 3 7 1]\n",
      "88\n"
     ]
    }
   ],
   "source": [
    "x1 = random.randint(0,10,5)\n",
    "x2 = random.randint(0,10,5)\n",
    "print(x1)\n",
    "print(x2)\n",
    "print(x1.dot(x2))"
   ]
  },
  {
   "cell_type": "markdown",
   "metadata": {},
   "source": [
    "外積（クロス積）"
   ]
  },
  {
   "cell_type": "code",
   "execution_count": 13,
   "metadata": {},
   "outputs": [
    {
     "name": "stdout",
     "output_type": "stream",
     "text": [
      "[-0.40739402 -0.04408069  0.30178138]\n"
     ]
    }
   ],
   "source": [
    "y1 = random.rand(3)\n",
    "y2 = random.rand(3)\n",
    "print(np.cross(y1,y2))"
   ]
  },
  {
   "cell_type": "markdown",
   "metadata": {},
   "source": [
    "外積（テンソル積）"
   ]
  },
  {
   "cell_type": "code",
   "execution_count": 14,
   "metadata": {},
   "outputs": [
    {
     "name": "stdout",
     "output_type": "stream",
     "text": [
      "[[21  0  9 21  3]\n",
      " [ 0  0  0  0  0]\n",
      " [21  0  9 21  3]\n",
      " [49  0 21 49  7]\n",
      " [63  0 27 63  9]]\n"
     ]
    }
   ],
   "source": [
    "print(np.outer(x1,x2))"
   ]
  },
  {
   "cell_type": "markdown",
   "metadata": {},
   "source": [
    "ランク"
   ]
  },
  {
   "cell_type": "code",
   "execution_count": 15,
   "metadata": {},
   "outputs": [
    {
     "name": "stdout",
     "output_type": "stream",
     "text": [
      "hのランク：3\n"
     ]
    }
   ],
   "source": [
    "print('hのランク：{}'.format(matrix_rank(h)))"
   ]
  },
  {
   "cell_type": "markdown",
   "metadata": {},
   "source": [
    "対角化行列"
   ]
  },
  {
   "cell_type": "code",
   "execution_count": 16,
   "metadata": {},
   "outputs": [
    {
     "name": "stdout",
     "output_type": "stream",
     "text": [
      "hの固有値:\n",
      "[17.15623539  2.49729548 -0.65353087]\n",
      "hの固有ベクトル：\n",
      "[[-0.68876041 -0.50732979 -0.51790499]\n",
      " [-0.88545369  0.45777263 -0.08009977]\n",
      " [-0.65884335 -0.1039735   0.74506037]]\n"
     ]
    }
   ],
   "source": [
    "L, P = eig(h)\n",
    "print('hの固有値:\\n{}'.format(L))\n",
    "print('hの固有ベクトル：\\n{}'.format(np.transpose(P)))"
   ]
  },
  {
   "cell_type": "code",
   "execution_count": 17,
   "metadata": {},
   "outputs": [
    {
     "name": "stdout",
     "output_type": "stream",
     "text": [
      "対角行列：\n",
      "[[17.15623539  1.04663608 -0.07885738]\n",
      " [ 7.19031253  2.49729548 -0.31114597]\n",
      " [ 2.0701329   1.18896209 -0.65353087]]\n"
     ]
    }
   ],
   "source": [
    "P_T = np.transpose(P)\n",
    "D = P_T.dot(h.dot(P))\n",
    "print('対角行列：\\n{}'.format(D))"
   ]
  },
  {
   "cell_type": "markdown",
   "metadata": {},
   "source": [
    "ノルム"
   ]
  },
  {
   "cell_type": "code",
   "execution_count": 18,
   "metadata": {},
   "outputs": [
    {
     "name": "stdout",
     "output_type": "stream",
     "text": [
      "x1のノルム：\n",
      "12.165525060596439\n"
     ]
    }
   ],
   "source": [
    "print('x1のノルム：\\n{}'.format(norm(x1)))"
   ]
  },
  {
   "cell_type": "code",
   "execution_count": null,
   "metadata": {},
   "outputs": [],
   "source": []
  }
 ],
 "metadata": {
  "kernelspec": {
   "display_name": "Python 3",
   "language": "python",
   "name": "python3"
  },
  "language_info": {
   "codemirror_mode": {
    "name": "ipython",
    "version": 3
   },
   "file_extension": ".py",
   "mimetype": "text/x-python",
   "name": "python",
   "nbconvert_exporter": "python",
   "pygments_lexer": "ipython3",
   "version": "3.6.5"
  }
 },
 "nbformat": 4,
 "nbformat_minor": 2
}
