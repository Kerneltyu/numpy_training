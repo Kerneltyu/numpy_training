{
 "cells": [
  {
   "cell_type": "markdown",
   "metadata": {},
   "source": [
    "スライス"
   ]
  },
  {
   "cell_type": "code",
   "execution_count": 1,
   "metadata": {},
   "outputs": [],
   "source": [
    "import numpy as np"
   ]
  },
  {
   "cell_type": "code",
   "execution_count": 5,
   "metadata": {},
   "outputs": [
    {
     "name": "stdout",
     "output_type": "stream",
     "text": [
      "[[[4 3 0]\n",
      "  [1 0 5]\n",
      "  [4 5 3]]\n",
      "\n",
      " [[9 6 5]\n",
      "  [7 7 9]\n",
      "  [3 1 2]]\n",
      "\n",
      " [[7 8 0]\n",
      "  [5 9 7]\n",
      "  [9 4 5]]]\n"
     ]
    }
   ],
   "source": [
    "X = np.random.randint(0,10,(3,3,3))\n",
    "print(X)"
   ]
  },
  {
   "cell_type": "code",
   "execution_count": 14,
   "metadata": {},
   "outputs": [
    {
     "data": {
      "text/plain": [
       "array([[0, 5, 3],\n",
       "       [5, 9, 2],\n",
       "       [0, 7, 5]])"
      ]
     },
     "execution_count": 14,
     "metadata": {},
     "output_type": "execute_result"
    }
   ],
   "source": [
    "#全ての行列の要素を２個飛ばしでとる．\n",
    "X[: , :, 2]"
   ]
  },
  {
   "cell_type": "code",
   "execution_count": 18,
   "metadata": {},
   "outputs": [
    {
     "data": {
      "text/plain": [
       "array([[4, 3, 0],\n",
       "       [9, 6, 5]])"
      ]
     },
     "execution_count": 18,
     "metadata": {},
     "output_type": "execute_result"
    }
   ],
   "source": [
    "#from 0 to 1のmatrixの1行目の取得\n",
    "X[0:2, 0]"
   ]
  },
  {
   "cell_type": "code",
   "execution_count": 19,
   "metadata": {},
   "outputs": [
    {
     "data": {
      "text/plain": [
       "array([[[4, 5, 3],\n",
       "        [1, 0, 5],\n",
       "        [4, 3, 0]],\n",
       "\n",
       "       [[3, 1, 2],\n",
       "        [7, 7, 9],\n",
       "        [9, 6, 5]],\n",
       "\n",
       "       [[9, 4, 5],\n",
       "        [5, 9, 7],\n",
       "        [7, 8, 0]]])"
      ]
     },
     "execution_count": 19,
     "metadata": {},
     "output_type": "execute_result"
    }
   ],
   "source": [
    "#配列逆順\n",
    "X[:,::-1]"
   ]
  },
  {
   "cell_type": "code",
   "execution_count": 20,
   "metadata": {},
   "outputs": [
    {
     "data": {
      "text/plain": [
       "array([[[5, 4, 9],\n",
       "        [7, 9, 5],\n",
       "        [0, 8, 7]],\n",
       "\n",
       "       [[2, 1, 3],\n",
       "        [9, 7, 7],\n",
       "        [5, 6, 9]],\n",
       "\n",
       "       [[3, 5, 4],\n",
       "        [5, 0, 1],\n",
       "        [0, 3, 4]]])"
      ]
     },
     "execution_count": 20,
     "metadata": {},
     "output_type": "execute_result"
    }
   ],
   "source": [
    "#全て逆順\n",
    "X[::-1,::-1,::-1]"
   ]
  }
 ],
 "metadata": {
  "kernelspec": {
   "display_name": "Python 3",
   "language": "python",
   "name": "python3"
  },
  "language_info": {
   "codemirror_mode": {
    "name": "ipython",
    "version": 3
   },
   "file_extension": ".py",
   "mimetype": "text/x-python",
   "name": "python",
   "nbconvert_exporter": "python",
   "pygments_lexer": "ipython3",
   "version": "3.6.5"
  }
 },
 "nbformat": 4,
 "nbformat_minor": 2
}
